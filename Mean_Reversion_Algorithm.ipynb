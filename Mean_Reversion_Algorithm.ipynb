{
  "cells": [
    {
      "cell_type": "markdown",
      "metadata": {
        "id": "view-in-github",
        "colab_type": "text"
      },
      "source": [
        "<a href=\"https://colab.research.google.com/github/ShengwenWesley/QAIFS_Stack/blob/main/Mean_Reversion_Algorithm.ipynb\" target=\"_parent\"><img src=\"https://colab.research.google.com/assets/colab-badge.svg\" alt=\"Open In Colab\"/></a>"
      ]
    },
    {
      "cell_type": "code",
      "execution_count": 169,
      "metadata": {
        "id": "VtEgBNOsk3IK"
      },
      "outputs": [],
      "source": [
        "import yfinance as yf\n",
        "import numpy as np\n",
        "import pandas as pd\n",
        "from datetime import datetime, timedelta\n",
        "import matplotlib.pyplot as plt"
      ]
    },
    {
      "cell_type": "code",
      "execution_count": 170,
      "metadata": {
        "id": "shsMeswfmBfc"
      },
      "outputs": [],
      "source": [
        "def get_sp500_constituents():\n",
        "  \"\"\"\n",
        "  Retrieve the consituents for S&P500 index from Wikipedia.\n",
        "\n",
        "  :Params\n",
        "    NONE\n",
        "  :Return\n",
        "    pd.dataframe with columns Ticker and Company\n",
        "\n",
        "  \"\"\"\n",
        "  tables = pd.read_html('https://en.wikipedia.org/wiki/List_of_S%26P_500_companies')\n",
        "  constituents = tables[0]\n",
        "  constituents = constituents.rename(columns={'Symbol': 'Ticker', 'Security': 'Company'})\n",
        "  sp500_constituents = constituents.iloc[:,0:2]\n",
        "  return sp500_constituents"
      ]
    },
    {
      "cell_type": "code",
      "execution_count": 171,
      "metadata": {
        "id": "o6RAJcGyDA3X"
      },
      "outputs": [],
      "source": [
        "def get_Open_Close_Price(startDate:str = \"20/03/23\",endDate:str = \"21/03/25\"):\n",
        "  \"\"\"\n",
        "  :Params\n",
        "    startDate\n",
        "    endDate (exclusive)\n",
        "    *format of \"Date/Month/Year\" liek \"20/03/25\" for 2025-03-20\n",
        "\n",
        "  :Return\n",
        "    dictionary (key=Ticker,Value=Opeb&Close Price over the period)\n",
        "  \"\"\"\n",
        "  startDate = datetime.strptime(startDate,\"%d/%m/%y\")\n",
        "  endDate = datetime.strptime(endDate,\"%d/%m/%y\")\n",
        "  dataList = {}\n",
        "\n",
        "  for currentTicker in SP500_CONSTITUENTS['Ticker']:\n",
        "    try:\n",
        "      currentStockData = yf.download(currentTicker, start=startDate, end=endDate)\n",
        "      currentStockData = currentStockData[['Open','Close']]\n",
        "      currentStockData.columns = ['Open','Close']\n",
        "      dataList[currentTicker] = currentStockData\n",
        "    except:\n",
        "      # Should have written to the log\n",
        "      continue\n",
        "  return dataList"
      ]
    },
    {
      "cell_type": "code",
      "source": [
        "def get_top10drop_stocks(rawData:set):\n",
        "  \"\"\"\n",
        "  :Params\n",
        "    Dictionary that (key=Ticker,value=Price over periods)\n",
        "  :Return\n",
        "    Dictionary that (key=Timestamp,value=Top10 Tickers that drop the most)\n",
        "  \"\"\"\n",
        "  target = {}\n",
        "  data = pd.DataFrame()\n",
        "  for currentTicker in rawData.keys():\n",
        "    data[currentTicker] = rawData[currentTicker]['Close'] - rawData[currentTicker]['Open']\n",
        "  for i in range(len(data)):\n",
        "    currentDate = data.index[i]\n",
        "    currentData = data.iloc[i,:].sort_values(ascending=True)\n",
        "    target[currentDate] = currentData.index[:10].tolist()\n",
        "  return target"
      ],
      "metadata": {
        "id": "wxYEkjpGhhtk"
      },
      "execution_count": 172,
      "outputs": []
    },
    {
      "cell_type": "code",
      "source": [
        "def calculate_Buy_Amount(currentPortfolio,today,targetTickers,rawData):\n",
        "  \"\"\"\n",
        "  :Params\n",
        "    currentPortfolio : Money in account\n",
        "    today : today's date\n",
        "    targetTickers : the target ticker set for what to buy today\n",
        "    rawData : the raw data set for today's price\n",
        "  :Return\n",
        "    buyAmount : how much can be bought\n",
        "  \"\"\"\n",
        "  buyOneEachCost = 0\n",
        "  for i in targetTickers[today]:\n",
        "    buyOneEachCost += rawData[i].loc[today]['Close']\n",
        "  return currentPortfolio // buyOneEachCost\n",
        "\n",
        "def buy(currentPortfolio,buyDate,targetTickers,rawData,buyAmount):\n",
        "  \"\"\"\n",
        "  :Params\n",
        "    currentPortfolio : Money in account\n",
        "    buyDate : buying in date\n",
        "    targetTickers : the target ticker set for what to buy today\n",
        "    rawData : the raw data set for today's price\n",
        "    buyAmount : how much can be bought\n",
        "  :Return\n",
        "    currentPortfolio : Money in account after buying\n",
        "  \"\"\"\n",
        "  for i in targetTickers[buyDate]:\n",
        "    currentPortfolio -= buyAmount*rawData[i].loc[buyDate]['Close']\n",
        "  return currentPortfolio\n",
        "\n",
        "def sell(currentPortfolio,buyDate,sellDate,targetTickers,rawData,sellAmount):\n",
        "  \"\"\"\n",
        "  :Params\n",
        "    currentPortfolio : Money in account\n",
        "    buyDate : buying in date\n",
        "    sellDate : selling out date\n",
        "    targetTickers : the target ticker set for what to buy today\n",
        "    rawData : the raw data set for today's price\n",
        "    sellAmount : how much to sell\n",
        "  :Return\n",
        "    currentPortfolio : Money in account after selling\n",
        "  \"\"\"\n",
        "  for i in targetTickers[buyDate]:\n",
        "    currentPortfolio += sellAmount*rawData[i].loc[sellDate]['Open']\n",
        "  return currentPortfolio"
      ],
      "metadata": {
        "id": "K0Y2g1EVt1DH"
      },
      "execution_count": 173,
      "outputs": []
    },
    {
      "cell_type": "code",
      "source": [
        "def get_RoI(initialMoney,rawData:set,targetTickers:set):\n",
        "  \"\"\"\n",
        "  :Params\n",
        "    initialMoney : The initial Amount of money in account\n",
        "    rawData : the raw data set for stock prices\n",
        "    targetTickers : the target ticker set for what to buy each day\n",
        "  :Return\n",
        "    RoI : array, Return on Investment,starting from the second day\n",
        "\n",
        "  \"\"\"\n",
        "\n",
        "  Dates = list(targetTickers.keys())\n",
        "  PeriodsLength = len(Dates)\n",
        "\n",
        "  yesterday = Dates[0]\n",
        "  today = Dates[1]\n",
        "  buyAmount = 0\n",
        "  Portfolio = initialMoney\n",
        "  RoI = []\n",
        "\n",
        "  # Buy on the first date\n",
        "  buyAmount = calculate_Buy_Amount(Portfolio,yesterday,targetTickers,rawData)\n",
        "  Portfolio = buy(Portfolio,yesterday,targetTickers,rawData,buyAmount)\n",
        "\n",
        "  # Sell Yesterdays', record portfolio and buy todays'\n",
        "  for i in range(1,PeriodsLength-1):\n",
        "    today = Dates[i]\n",
        "\n",
        "    # Sell Yesterdays'\n",
        "    Portfolio = sell(Portfolio,yesterday,today,targetTickers,rawData,buyAmount)\n",
        "\n",
        "    # Record Portfolio\n",
        "    RoI.append(float(Portfolio))\n",
        "\n",
        "    # Calculate amount to buy\n",
        "    buyAmount = calculate_Buy_Amount(Portfolio,today,targetTickers,rawData)\n",
        "\n",
        "    # Buy Todays'\n",
        "    Portfolio = buy(Portfolio,today,targetTickers,rawData,buyAmount)\n",
        "\n",
        "    yesterday = today\n",
        "\n",
        "  # Sell at the last date\n",
        "  today = Dates[-1]\n",
        "  Portfolio = sell(Portfolio,yesterday,today,targetTickers,rawData,buyAmount)\n",
        "  RoI.append(float(Portfolio))\n",
        "\n",
        "  return RoI"
      ],
      "metadata": {
        "id": "v3Hm9sSyst8C"
      },
      "execution_count": 174,
      "outputs": []
    },
    {
      "cell_type": "code",
      "source": [
        "def calculate_RoI_Rate(RoI:list,initialMoney):\n",
        "  \"\"\"\n",
        "  :Params\n",
        "    RoI : array, Return on Investment\n",
        "  :Return\n",
        "    rate : array, Return on Investment Rate\n",
        "  \"\"\"\n",
        "  rate = []\n",
        "  for i in range(len(RoI)):\n",
        "    rate.append((RoI[i] - initialMoney) / initialMoney * 100)\n",
        "  return rate"
      ],
      "metadata": {
        "id": "Oyp8Br57zKLB"
      },
      "execution_count": 175,
      "outputs": []
    },
    {
      "cell_type": "code",
      "source": [
        "SP500_CONSTITUENTS = get_sp500_constituents()\n",
        "# Drop the error stocks\n",
        "SP500_CONSTITUENTS = SP500_CONSTITUENTS[SP500_CONSTITUENTS['Ticker'] != 'BRK.B']\n",
        "SP500_CONSTITUENTS = SP500_CONSTITUENTS[SP500_CONSTITUENTS['Ticker'] != 'BF.B']"
      ],
      "metadata": {
        "id": "yEMFve43xVjd"
      },
      "execution_count": 176,
      "outputs": []
    },
    {
      "cell_type": "code",
      "source": [
        "rawData = get_Open_Close_Price()"
      ],
      "metadata": {
        "id": "oTirkIVixY5b"
      },
      "execution_count": null,
      "outputs": []
    },
    {
      "cell_type": "code",
      "source": [
        "targetTickers = get_top10drop_stocks(rawData)"
      ],
      "metadata": {
        "id": "O4d3yRMDxbVw"
      },
      "execution_count": null,
      "outputs": []
    },
    {
      "cell_type": "code",
      "source": [
        "initialMoney = 10000\n",
        "RoI = get_RoI(initialMoney,rawData,targetTickers)"
      ],
      "metadata": {
        "id": "KJgukV8TxduP"
      },
      "execution_count": 179,
      "outputs": []
    },
    {
      "cell_type": "code",
      "source": [
        "RoI_Rate = calculate_RoI_Rate(RoI,initialMoney)"
      ],
      "metadata": {
        "id": "p19nexFvy_rO"
      },
      "execution_count": 180,
      "outputs": []
    },
    {
      "cell_type": "code",
      "source": [
        "def get_etf_Data(startDate:str = \"20/03/23\",endDate:str = \"21/03/25\"):\n",
        "  \"\"\"\n",
        "  :Params\n",
        "    startDate\n",
        "    endDate (exclusive)\n",
        "    *format of \"Date/Month/Year\" like \"20/03/25\" for 2025-03-20\n",
        "\n",
        "  :Return\n",
        "    pd.dataframe with columns Open and Close\n",
        "  \"\"\"\n",
        "  startDate = datetime.strptime(startDate,\"%d/%m/%y\")\n",
        "  endDate = datetime.strptime(endDate,\"%d/%m/%y\")\n",
        "  etf_Ticker = \"SPY\"\n",
        "  eftData = yf.download(etf_Ticker,start=startDate,end=endDate)[['Open','Close']]\n",
        "  eftData.columns = ['Open','Close']\n",
        "  return eftData\n",
        "\n",
        "def trade_ETF(initialMoney,etfData):\n",
        "  \"\"\"\n",
        "  :Params\n",
        "    initialMoney : The initial Amount of money in account\n",
        "    etfData : the raw data set for stock prices\n",
        "  :Return\n",
        "    RoI_ETF : array, Return on Investment,starting from the second day\n",
        "\n",
        "  \"\"\"\n",
        "  RoI_ETF = []\n",
        "  Portfolio = initialMoney\n",
        "  buyAmount = 0\n",
        "  for i in range(len(etfData)-1):\n",
        "    buyAmount = Portfolio // etfData.iloc[i,1]\n",
        "    Portfolio -= buyAmount*etfData.iloc[i,1]\n",
        "    Portfolio += buyAmount*etfData.iloc[i+1,0]\n",
        "    RoI_ETF.append(float(Portfolio))\n",
        "  print(len(RoI_ETF))\n",
        "  return RoI_ETF\n",
        "etfData = get_etf_Data()\n",
        "etf_RoI = trade_ETF(initialMoney,etfData)\n",
        "etf_RoI_Rate = calculate_RoI_Rate(etf_RoI,initialMoney)"
      ],
      "metadata": {
        "id": "MyuOYhRA1Dov"
      },
      "execution_count": null,
      "outputs": []
    },
    {
      "cell_type": "code",
      "source": [
        "plt.figure()\n",
        "plt.plot(np.arange(len(RoI_Rate)),RoI_Rate,color=\"lightcoral\")\n",
        "plt.plot(np.arange(len(etf_RoI_Rate)),etf_RoI_Rate,color=\"mediumslateblue\")\n",
        "plt.legend(['Mean Reversion Algorithm','ETF'])\n",
        "plt.xlabel('Days')\n",
        "plt.ylabel('Return on Investment Rate')\n",
        "plt.show()"
      ],
      "metadata": {
        "colab": {
          "base_uri": "https://localhost:8080/",
          "height": 449
        },
        "id": "U0EIDqgFz6xr",
        "outputId": "a7c982a7-6089-461d-8318-f421bfbd5af2"
      },
      "execution_count": 196,
      "outputs": [
        {
          "output_type": "display_data",
          "data": {
            "text/plain": [
              "<Figure size 640x480 with 1 Axes>"
            ],
            "image/png": "[encoded data removed]"
          },
          "metadata": {}
        }
      ]
    },
    {
      "cell_type": "markdown",
      "source": [],
      "metadata": {
        "id": "YqrAOxO9asmT"
      }
    }
  ],
  "metadata": {
    "colab": {
      "provenance": [],
      "authorship_tag": "ABX9TyMk5b3rhnWJSJLIy/3kYrPk",
      "include_colab_link": true
    },
    "kernelspec": {
      "display_name": "Python 3",
      "name": "python3"
    },
    "language_info": {
      "name": "python"
    }
  },
  "nbformat": 4,
  "nbformat_minor": 0
}